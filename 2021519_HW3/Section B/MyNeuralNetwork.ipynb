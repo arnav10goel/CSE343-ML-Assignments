{
 "cells": [
  {
   "cell_type": "markdown",
   "metadata": {},
   "source": [
    "## Section B"
   ]
  },
  {
   "cell_type": "markdown",
   "metadata": {},
   "source": [
    "- Importing Libraries"
   ]
  },
  {
   "cell_type": "code",
   "execution_count": 63,
   "metadata": {},
   "outputs": [],
   "source": [
    "import numpy as np\n",
    "import matplotlib.pyplot as plt\n",
    "import pandas as pd\n",
    "from tensorflow.keras.datasets import mnist\n",
    "import pickle\n",
    "from scipy.special import softmax"
   ]
  },
  {
   "cell_type": "markdown",
   "metadata": {},
   "source": [
    "### Implementing Activation Functions and Gradients:\n",
    "1. ReLU\n",
    "2. Leaky ReLU\n",
    "3. Sigmoid\n",
    "4. Tanh\n",
    "5. Linear \n",
    "6. Softmax"
   ]
  },
  {
   "cell_type": "code",
   "execution_count": 64,
   "metadata": {},
   "outputs": [],
   "source": [
    "epsilon = 1e-8\n",
    "\n",
    "# Define the following functions\n",
    "# 1. sigmoid\n",
    "def sigmoid(x):\n",
    "    return 1/(1+np.exp(-x))\n",
    "\n",
    "def sigmoid_grad(x):\n",
    "    return sigmoid(x)*(1-sigmoid(x))\n",
    "\n",
    "# 2. relu\n",
    "def relu(x):\n",
    "    return np.where(x>0, x, 0)\n",
    "\n",
    "def relu_grad(x):\n",
    "    return np.where(x>0, 1, 0)\n",
    "\n",
    "# 3. tanh\n",
    "def tanh(x):\n",
    "    return np.tanh(x)\n",
    "\n",
    "def tanh_grad(x):\n",
    "    return 1-tanh(x)**2\n",
    "\n",
    "# 4. leaky_relu\n",
    "def leaky_relu(x, alpha=0.01):\n",
    "    return np.where(x>0,x,alpha*x)\n",
    "\n",
    "def leaky_relu_grad(x, alpha=0.01):\n",
    "    return np.where(x>0,1,alpha)\n",
    "\n",
    "# 5. linear\n",
    "def linear(x):\n",
    "    return x\n",
    "\n",
    "def linear_grad(x):\n",
    "    return np.ones_like(x)\n",
    "\n",
    "def _softmax(x):\n",
    "    # # Normalize x to avoid overflow by subtracting the max value from each row\n",
    "    # exp_x = np.exp(x - np.max(x, axis=-1, keepdims=True))\n",
    "    # return exp_x / np.sum(exp_x, axis=-1, keepdims=True)\n",
    "\n",
    "    return softmax(x, axis=1)\n",
    "\n",
    "def softmax_grad(x):\n",
    "    return softmax(x, axis=1) * (1 - softmax(x, axis=1))\n"
   ]
  },
  {
   "cell_type": "markdown",
   "metadata": {},
   "source": [
    "### Implementing Weight Initialisation Functions:\n",
    "1. Zero Initialisation\n",
    "2. Random Initialisation\n",
    "3. Normal Initialisation N(0,1)"
   ]
  },
  {
   "cell_type": "code",
   "execution_count": 70,
   "metadata": {},
   "outputs": [],
   "source": [
    "# Weight initialization functions\n",
    "\n",
    "# 1. zero initialization\n",
    "def zero_init(shape):\n",
    "    return np.zeros(shape)\n",
    "\n",
    "# 2. random initialization\n",
    "def random_init(shape):\n",
    "    weights = np.random.random(shape)*2-1\n",
    "\n",
    "    # Scale the weights\n",
    "    return weights/np.sqrt(np.sum(weights**2))\n",
    "\n",
    "# 3. normal initialization\n",
    "def normal_init(shape):\n",
    "    weights_temp = np.random.normal(0,1,shape)\n",
    "\n",
    "    # Scale the weights\n",
    "    return weights_temp/np.sqrt(np.sum(weights_temp**2))\n",
    "    # return np.random.normal(0,1,shape)"
   ]
  },
  {
   "cell_type": "markdown",
   "metadata": {},
   "source": [
    "### Class Implementing Neural Network"
   ]
  },
  {
   "cell_type": "code",
   "execution_count": 66,
   "metadata": {},
   "outputs": [],
   "source": [
    "class GoelNeuralNet:\n",
    "    def __init__(self, N, A, activation, activation_grad, weight_init, num_epochs, batch_size, lr=0.01):\n",
    "        \"\"\"\n",
    "        Initialize the neural network object with the following parameters:\n",
    "\n",
    "        Parameters:\n",
    "        N (int): Number of layers in the neural network\n",
    "        A (list): List of number of neurons in each layer\n",
    "        activation (function): Activation function to be used in forward propagation\n",
    "        activation_grad (function): Gradient of the activation function\n",
    "        weight_init (function): Weight initialization function\n",
    "        num_epochs (int): Number of epochs to train the neural network\n",
    "        batch_size (int): Batch size to use for training\n",
    "        lr (float): Learning rate\n",
    "\n",
    "        Weights and biases are initialized in the fit method. These are lists of numpy arrays. The weights are initialized using the\n",
    "        weight_init function and the biases are initialized to zero. Weights is of shape (input_dim, output_dim) and biases is of shape\n",
    "        (1, output_dim). The input_dim and output_dim are the number of neurons in the previous layer and the current layer respectively.\n",
    "        The input_dim is the number of features in the input layer. The weights and biases are updated in the backward_propagation method.\n",
    "        \n",
    "        The activations are also initialized in the fit method. These are lists of numpy arrays which are of shape (batch_size, num_neurons).\n",
    "        It stores the activations for each layer. The activations for the input layer are the input itself. \n",
    "        The activations for the hidden layers and the output layer are initialized to zero. The activations are updated in\n",
    "        the forward_propagation method.\n",
    "        \"\"\"\n",
    "\n",
    "        self.N = N\n",
    "        self.A = A\n",
    "        self.lr = lr\n",
    "        self.activation = activation\n",
    "        self.activation_grad = activation_grad\n",
    "        self.weight_init = weight_init\n",
    "        self.num_epochs = num_epochs\n",
    "        self.batch_size = batch_size\n",
    "        self.weights = []\n",
    "        self.biases = []\n",
    "        self.activations = []\n",
    "\n",
    "    def forward_propagation(self, X):\n",
    "        \"\"\"\n",
    "        Perform forward propagation through the neural network and return the output which is the probability of each class. We pass \n",
    "        the input through each layer and apply the activation function to get the output of each layer. Finally, we apply softmax to the\n",
    "        output of the last layer to get the probabilities of each class.\n",
    "        \n",
    "        Parameters:\n",
    "        X (np.array): Input to the neural network (shape: (batch_size, input_dim))\n",
    "        \"\"\"\n",
    "\n",
    "        self.activations[0] = X\n",
    "        for i in range(self.N-1):\n",
    "            X_temp = np.dot(self.activations[i],self.weights[i]) + self.biases[i]\n",
    "            # If last layer apply softmax\n",
    "            if i == self.N-2:\n",
    "                X_activated = _softmax(X_temp)\n",
    "            else:\n",
    "                X_activated = self.activation(X_temp)\n",
    "            self.activations[i+1] = X_activated\n",
    "        return X_activated\n",
    "    \n",
    "    def backward_propagation(self, X, y, output):\n",
    "        \"\"\"\n",
    "        For each layer, compute the gradients of the weights and biases and update them. Also, compute the error for the next layer. \n",
    "        We use error = (output - y) / batch_size. We clip the gradients to avoid exploding gradients. Finally, we update the weights\n",
    "        and biases using the gradients and the learning rate. This is implementation of the backpropagation algorithm using chain rule.\n",
    "\n",
    "        Parameters:\n",
    "        X (np.array): Input to the neural network (shape: (batch_size, input_dim))\n",
    "        y (np.array): Labels (shape: (batch_size, output_dim))\n",
    "        output (np.array): Output of the neural network (shape: (batch_size, output_dim))\n",
    "        \"\"\"\n",
    "        \n",
    "        error = (output - y) / X.shape[0]  # Fix the error term dimensions\n",
    "\n",
    "        for i in range(self.N - 2, -1, -1):\n",
    "            # Compute gradients\n",
    "            d_weights = np.dot(self.activations[i].T, error) \n",
    "            d_biases = np.sum(error, axis=0, keepdims=True) \n",
    "\n",
    "            \"\"\"\n",
    "            Gradient clipping (optional) is used to avoid exploding gradients. We clip the gradients to a maximum value of 15.0.\n",
    "            \"\"\"\n",
    "            # max_grad = 15.0\n",
    "            # d_weights = np.clip(d_weights, -max_grad, max_grad)\n",
    "            # d_biases = np.clip(d_biases, -max_grad, max_grad)\n",
    "\n",
    "            # Update weights and biases\n",
    "            self.weights[i] -= self.lr * d_weights\n",
    "            self.biases[i] -= self.lr * d_biases\n",
    "\n",
    "            # Compute error for the next layer\n",
    "            error = np.dot(error, self.weights[i].T) * self.activation_grad(self.activations[i])\n",
    "\n",
    "        return error\n",
    "    \n",
    "    def fit(self, X, y, X_val, y_val):\n",
    "        \"\"\"\n",
    "        Fit the neural network to the training data. We initialize the weights and biases. Then, we iterate over the epochs and for each\n",
    "        epoch, we iterate over the batches. For each batch, we perform forward propagation and backward propagation. We compute the training\n",
    "        and validation loss for each epoch and print it. Finally, we plot the training and validation losses.\n",
    "        \n",
    "        Parameters:\n",
    "        X (np.array): Training data (shape: (num_samples, input_dim))\n",
    "        y (np.array): Training labels (shape: (num_samples, output_dim))\n",
    "        X_val (np.array): Validation data (shape: (num_samples, input_dim))\n",
    "        y_val (np.array): Validation labels (shape: (num_samples, output_dim))\n",
    "        \"\"\"\n",
    "\n",
    "        # Add input and output dimensions to the list of neurons in each layer\n",
    "        input_dim = X.shape[1]\n",
    "        output_dim = y.shape[1]\n",
    "        self.A.insert(0,input_dim)\n",
    "        self.A.append(output_dim)\n",
    "\n",
    "        # Update number of layers\n",
    "        self.N = self.N + 2\n",
    "\n",
    "        # Initialize training and validation losses\n",
    "        train_loss = []\n",
    "        val_loss = []\n",
    "\n",
    "        # Initialize weights and biases\n",
    "        for i in range(len(self.A)-1):\n",
    "            self.weights.append(self.weight_init((self.A[i],self.A[i+1])))\n",
    "            self.biases.append(self.weight_init((1,self.A[i+1])))\n",
    "\n",
    "        # Initialize activations\n",
    "        self.activations = [X] + [np.zeros(shape) for shape in self.A[1:]]\n",
    "\n",
    "        # Iterate over epochs\n",
    "        for epoch in range(0, self.num_epochs):\n",
    "            for i in range(0, X.shape[0], self.batch_size):\n",
    "                X_batch = X[i:min(i+self.batch_size, X.shape[0])]\n",
    "                y_batch = y[i:min(i+self.batch_size, X.shape[0])]\n",
    "\n",
    "                # Forward pass\n",
    "                y_pred = self.forward_propagation(X_batch)\n",
    "\n",
    "                # Backward pass\n",
    "                self.backward_propagation(X_batch, y_batch, y_pred)\n",
    "            \n",
    "            # Compute training loss\n",
    "            y_pred_train = self.forward_propagation(X)\n",
    "            training_loss = -np.sum(y*np.log(y_pred_train + 1e-6))/y.shape[0]\n",
    "            \n",
    "            # Compute validation loss\n",
    "            y_pred_val = self.forward_propagation(X_val)\n",
    "            validation_loss = -np.sum(y_val*np.log(y_pred_val + 1e-6))/y_val.shape[0]\n",
    "\n",
    "            # Append training and validation losses\n",
    "            train_loss.append(training_loss)\n",
    "            val_loss.append(validation_loss)\n",
    "\n",
    "            # Print training and validation losses\n",
    "            print(\"Epoch: {} | Training loss: {} | Validation loss: {}\".format(epoch+1, training_loss, validation_loss))\n",
    "\n",
    "        # Plot training and validation losses at the end of training\n",
    "        plt.plot(range(self.num_epochs), train_loss, label='Training Loss')\n",
    "        plt.plot(range(self.num_epochs), val_loss, label='Validation Loss')\n",
    "        plt.xlabel('Epochs')\n",
    "        plt.ylabel('Loss')\n",
    "        plt.legend()\n",
    "        plt.show()\n",
    "\n",
    "    def predict_proba(self, X):\n",
    "        \"\"\"\n",
    "        Apply forward propagation and return the probabilities of each class for each row in X which is the output of\n",
    "        the last layer of the neural network.\n",
    "        \n",
    "        Parameters:\n",
    "        X (np.array): Input to the neural network (shape: (num_samples, input_dim)) which is the test data\n",
    "        \"\"\"\n",
    "\n",
    "        # Call forward_propagation to get the probabilities for each class\n",
    "        return self.forward_propagation(X)\n",
    "    \n",
    "    def predict(self, X):\n",
    "        \"\"\"\n",
    "        Apply forward propagation and return the predicted class for each row in X. For each row, set the class with\n",
    "        the highest probability to 1 and the rest to 0. This is the same as one-hot encoding the output of the neural\n",
    "        network.\n",
    "\n",
    "        Parameters:\n",
    "        X (np.array): Input to the neural network (shape: (num_samples, input_dim)) which is the test data\n",
    "        \"\"\"\n",
    "        # Call predict_proba to get the probabilities for each class\n",
    "        y_pred_proba = self.predict_proba(X)\n",
    "\n",
    "        # For each row, set the class with the highest probability to 1 and the rest to 0\n",
    "        y_pred = np.zeros_like(y_pred_proba)\n",
    "        y_pred[np.arange(len(y_pred_proba)), y_pred_proba.argmax(1)] = 1\n",
    "\n",
    "        return y_pred\n",
    "    \n",
    "    def score(self, X, y): \n",
    "        \"\"\"\n",
    "        Calculate the accuracy of the neural network by comparing the predicted class and the actual class for each row in X.\n",
    "        Return the mean accuracy.\n",
    "        \n",
    "        Parameters:\n",
    "        X (np.array): Input to the neural network (shape: (num_samples, input_dim)) which is the test data\n",
    "        y (np.array): Labels (shape: (num_samples, output_dim)) which is the test labels\n",
    "        \"\"\"\n",
    "        y_pred = self.predict(X)\n",
    "        return np.mean(y_pred == y)"
   ]
  },
  {
   "cell_type": "markdown",
   "metadata": {},
   "source": [
    "### Showing Performance on the MNIST Dataset\n",
    "- We first load the dataset and then configure the network according to the question.\n",
    "- We then run it for each activation function and plot the val loss and train loss vs epochs curve"
   ]
  },
  {
   "cell_type": "code",
   "execution_count": 77,
   "metadata": {},
   "outputs": [],
   "source": [
    "# Load the MNIST dataset\n",
    "(X_train, y_train), (X_test, y_test) = mnist.load_data()\n",
    "\n",
    "# Flatten the images\n",
    "X_train = X_train.reshape(X_train.shape[0], -1)\n",
    "X_test = X_test.reshape(X_test.shape[0], -1)\n",
    "\n",
    "# Normalize the images\n",
    "X_train = X_train/255.0\n",
    "X_test = X_test/255.0\n",
    "\n",
    "# Convert y to one-hot encoded vectors\n",
    "from sklearn.preprocessing import OneHotEncoder\n",
    "enc = OneHotEncoder()\n",
    "y_train = enc.fit_transform(y_train.reshape(-1,1)).toarray()\n",
    "y_test = enc.transform(y_test.reshape(-1,1)).toarray()"
   ]
  },
  {
   "cell_type": "code",
   "execution_count": 78,
   "metadata": {},
   "outputs": [],
   "source": [
    "# Split the training data into training and validation sets\n",
    "from sklearn.model_selection import train_test_split\n",
    "X_train, X_val, y_train, y_val = train_test_split(X_train, y_train, test_size=0.2, random_state=42)\n",
    "\n",
    "# Define configurations\n",
    "N = 4\n",
    "A = [256, 128, 64, 32]\n",
    "num_epochs = 20\n",
    "batch_size = 128"
   ]
  },
  {
   "cell_type": "code",
   "execution_count": 58,
   "metadata": {},
   "outputs": [
    {
     "name": "stdout",
     "output_type": "stream",
     "text": [
      "Epoch: 1 | Training loss: 0.8789936472051718 | Validation loss: 0.8939582698992183\n",
      "Epoch: 2 | Training loss: 0.7063265087055077 | Validation loss: 0.7155904201866458\n",
      "Epoch: 3 | Training loss: 0.639232529443778 | Validation loss: 0.6398385505232325\n",
      "Epoch: 4 | Training loss: 0.5743256875770706 | Validation loss: 0.6021550881063509\n",
      "Epoch: 5 | Training loss: 0.5513204556936193 | Validation loss: 0.5777328154995722\n",
      "Epoch: 6 | Training loss: 0.5133343490435059 | Validation loss: 0.5399611446192222\n",
      "Epoch: 7 | Training loss: 0.4969683598240076 | Validation loss: 0.511742298119528\n",
      "Epoch: 8 | Training loss: 0.46555089979118724 | Validation loss: 0.5040921770977106\n",
      "Epoch: 9 | Training loss: 0.4635760149032969 | Validation loss: 0.49497091484769984\n",
      "Epoch: 10 | Training loss: 0.4364448011224105 | Validation loss: 0.47775013267126376\n",
      "Epoch: 11 | Training loss: 0.4394049283997687 | Validation loss: 0.48986484518907286\n",
      "Epoch: 12 | Training loss: 0.4044827992273786 | Validation loss: 0.4545871407273532\n",
      "Epoch: 13 | Training loss: 0.41583343246980164 | Validation loss: 0.4566651683805729\n",
      "Epoch: 14 | Training loss: 0.4097329800727765 | Validation loss: 0.4633682470138227\n",
      "Epoch: 15 | Training loss: 0.3948626911770933 | Validation loss: 0.46489261453037994\n",
      "Epoch: 16 | Training loss: 0.3964374951919625 | Validation loss: 0.45202084218627464\n",
      "Epoch: 17 | Training loss: 0.38052523786152204 | Validation loss: 0.4527087474619612\n",
      "Epoch: 18 | Training loss: 0.37322227368945443 | Validation loss: 0.45159984868534275\n",
      "Epoch: 19 | Training loss: 0.3643824643774249 | Validation loss: 0.4398967127007056\n",
      "Epoch: 20 | Training loss: 0.4049530946157617 | Validation loss: 0.46664210115510785\n"
     ]
    },
    {
     "data": {
      "image/png": "[encoded data removed]",
      "text/plain": [
       "<Figure size 432x288 with 1 Axes>"
      ]
     },
     "metadata": {
      "needs_background": "light"
     },
     "output_type": "display_data"
    },
    {
     "name": "stdout",
     "output_type": "stream",
     "text": [
      "Validating the Tanh model:\n",
      "Training accuracy: 0.9815125\n",
      "Validation accuracy: 0.9807\n",
      "Test accuracy: 0.98048\n"
     ]
    }
   ],
   "source": [
    "# Testing the model with various activation functions\n",
    "\n",
    "# 1. Tanh activation function\n",
    "model_tanh = GoelNeuralNet(N=N, A=A, lr=0.01, activation=tanh, activation_grad=tanh_grad, weight_init=normal_init, num_epochs=num_epochs, batch_size=batch_size)\n",
    "\n",
    "# Train the model\n",
    "model_tanh.fit(X_train, y_train, X_val, y_val)\n",
    "\n",
    "# Evaluate the model\n",
    "print(\"Validating the Tanh model:\")\n",
    "print(\"Training accuracy: {}\".format(model_tanh.score(X_train, y_train)))\n",
    "print(\"Validation accuracy: {}\".format(model_tanh.score(X_val, y_val)))\n",
    "print(\"Test accuracy: {}\".format(model_tanh.score(X_test, y_test)))\n",
    "\n",
    "# Save the model\n",
    "pickle.dump(model_tanh, open(\"model_tanh.pkl\", \"wb\"))"
   ]
  },
  {
   "cell_type": "code",
   "execution_count": 62,
   "metadata": {},
   "outputs": [
    {
     "name": "stdout",
     "output_type": "stream",
     "text": [
      "Epoch: 1 | Training loss: 1.8515565592609375 | Validation loss: 1.8505750512800565\n",
      "Epoch: 2 | Training loss: 1.5096650166340913 | Validation loss: 1.5081245619772115\n",
      "Epoch: 3 | Training loss: 1.2858140741385327 | Validation loss: 1.2765724237725227\n",
      "Epoch: 4 | Training loss: 1.1143229627372095 | Validation loss: 1.1009730751173197\n",
      "Epoch: 5 | Training loss: 0.9914163176781343 | Validation loss: 0.9810300667249245\n",
      "Epoch: 6 | Training loss: 0.9102047377168007 | Validation loss: 0.9041640481748328\n"
     ]
    },
    {
     "name": "stderr",
     "output_type": "stream",
     "text": [
      "/var/folders/c9/s8062nf53sv0b6gfv3ct0lv80000gn/T/ipykernel_31167/3519655299.py:6: RuntimeWarning: overflow encountered in exp\n",
      "  return 1/(1+np.exp(-x))\n"
     ]
    },
    {
     "name": "stdout",
     "output_type": "stream",
     "text": [
      "Epoch: 7 | Training loss: 0.8508608990190357 | Validation loss: 0.848009226823386\n",
      "Epoch: 8 | Training loss: 0.8053429268625525 | Validation loss: 0.805795684292567\n",
      "Epoch: 9 | Training loss: 0.7707453643898796 | Validation loss: 0.7696380324570582\n",
      "Epoch: 10 | Training loss: 0.7369014315939747 | Validation loss: 0.7331835256703275\n",
      "Epoch: 11 | Training loss: 0.7077895000171374 | Validation loss: 0.7019884081670116\n",
      "Epoch: 12 | Training loss: 0.6837853190899783 | Validation loss: 0.6729529991799202\n",
      "Epoch: 13 | Training loss: 0.6637137782728981 | Validation loss: 0.6490478763483956\n",
      "Epoch: 14 | Training loss: 0.6461015760872518 | Validation loss: 0.6321930753785923\n",
      "Epoch: 15 | Training loss: 0.6310522463695095 | Validation loss: 0.6162249662910024\n",
      "Epoch: 16 | Training loss: 0.616727039184131 | Validation loss: 0.6032243139079833\n",
      "Epoch: 17 | Training loss: 0.6042942781277718 | Validation loss: 0.5912941592885719\n",
      "Epoch: 18 | Training loss: 0.5942928618916361 | Validation loss: 0.5816464782884139\n",
      "Epoch: 19 | Training loss: 0.5851687178028235 | Validation loss: 0.574665561321707\n",
      "Epoch: 20 | Training loss: 0.5762869802200262 | Validation loss: 0.5644413421618387\n"
     ]
    },
    {
     "data": {
      "image/png": "[encoded data removed]",
      "text/plain": [
       "<Figure size 432x288 with 1 Axes>"
      ]
     },
     "metadata": {
      "needs_background": "light"
     },
     "output_type": "display_data"
    },
    {
     "name": "stdout",
     "output_type": "stream",
     "text": [
      "Validating the Sigmoid model:\n",
      "Training accuracy: 0.9651708333333333\n",
      "Validation accuracy: 0.96555\n",
      "Test accuracy: 0.96608\n"
     ]
    }
   ],
   "source": [
    "# 2. Sigmoid activation function\n",
    "model_sigmoid = GoelNeuralNet(N=N, A=A, lr=0.01, activation=sigmoid, activation_grad=sigmoid_grad, weight_init=normal_init, num_epochs=num_epochs, batch_size=batch_size)\n",
    "\n",
    "# Train the model\n",
    "model_sigmoid.fit(X_train, y_train, X_val, y_val)\n",
    "\n",
    "# Evaluate the model\n",
    "print(\"Validating the Sigmoid model:\")\n",
    "print(\"Training accuracy: {}\".format(model_sigmoid.score(X_train, y_train)))\n",
    "print(\"Validation accuracy: {}\".format(model_sigmoid.score(X_val, y_val)))\n",
    "print(\"Test accuracy: {}\".format(model_sigmoid.score(X_test, y_test)))\n",
    "\n",
    "# Save the model\n",
    "pickle.dump(model_sigmoid, open(\"model_sigmoid.pkl\", \"wb\"))"
   ]
  },
  {
   "cell_type": "code",
   "execution_count": 73,
   "metadata": {},
   "outputs": [
    {
     "name": "stdout",
     "output_type": "stream",
     "text": [
      "Epoch: 1 | Training loss: 2.308493994911953 | Validation loss: 2.3088857841427854\n",
      "Epoch: 2 | Training loss: 2.3026265778611394 | Validation loss: 2.3029857808960985\n",
      "Epoch: 3 | Training loss: 2.301389217397443 | Validation loss: 2.301761708999418\n",
      "Epoch: 4 | Training loss: 2.3011475603183427 | Validation loss: 2.3015343811167632\n",
      "Epoch: 5 | Training loss: 2.3010985273634965 | Validation loss: 2.3014943034987767\n",
      "Epoch: 6 | Training loss: 2.301086924389985 | Validation loss: 2.3014874810653363\n",
      "Epoch: 7 | Training loss: 2.30108342453864 | Validation loss: 2.301486346929608\n",
      "Epoch: 8 | Training loss: 2.3010820293833314 | Validation loss: 2.3014860705253724\n",
      "Epoch: 9 | Training loss: 2.3010812983528535 | Validation loss: 2.301485853366488\n",
      "Epoch: 10 | Training loss: 2.3010808101813165 | Validation loss: 2.301485597660525\n",
      "Epoch: 11 | Training loss: 2.3010804185216474 | Validation loss: 2.301485311620109\n",
      "Epoch: 12 | Training loss: 2.301080066129444 | Validation loss: 2.3014850093956816\n",
      "Epoch: 13 | Training loss: 2.3010797290245004 | Validation loss: 2.3014846988274877\n",
      "Epoch: 14 | Training loss: 2.3010793966688845 | Validation loss: 2.3014843833189684\n",
      "Epoch: 15 | Training loss: 2.3010790641897674 | Validation loss: 2.301484063894997\n",
      "Epoch: 16 | Training loss: 2.3010787293269797 | Validation loss: 2.301483740698162\n",
      "Epoch: 17 | Training loss: 2.3010783908114805 | Validation loss: 2.3014834134425444\n",
      "Epoch: 18 | Training loss: 2.301078047889309 | Validation loss: 2.3014830817857406\n",
      "Epoch: 19 | Training loss: 2.3010777000988263 | Validation loss: 2.3014827453496083\n",
      "Epoch: 20 | Training loss: 2.301077347003299 | Validation loss: 2.3014824038292203\n"
     ]
    },
    {
     "data": {
      "image/png": "[encoded data removed]",
      "text/plain": [
       "<Figure size 432x288 with 1 Axes>"
      ]
     },
     "metadata": {
      "needs_background": "light"
     },
     "output_type": "display_data"
    },
    {
     "name": "stdout",
     "output_type": "stream",
     "text": [
      "Validating the ReLU model:\n",
      "Training accuracy: 0.8225833333333333\n",
      "Validation accuracy: 0.8220333333333333\n",
      "Test accuracy: 0.8227\n"
     ]
    }
   ],
   "source": [
    "# 3. ReLU activation function\n",
    "model_relu = GoelNeuralNet(N=N, A=A, lr=0.01, activation=relu, activation_grad=relu_grad, weight_init=normal_init, num_epochs=num_epochs, batch_size=batch_size)\n",
    "\n",
    "# Train the model\n",
    "model_relu.fit(X_train, y_train, X_val, y_val)\n",
    "\n",
    "# Evaluate the model\n",
    "print(\"Validating the ReLU model:\")\n",
    "print(\"Training accuracy: {}\".format(model_relu.score(X_train, y_train)))\n",
    "print(\"Validation accuracy: {}\".format(model_relu.score(X_val, y_val)))\n",
    "print(\"Test accuracy: {}\".format(model_relu.score(X_test, y_test)))\n",
    "\n",
    "# Save the model\n",
    "pickle.dump(model_relu, open(\"model_relu.pkl\", \"wb\"))"
   ]
  },
  {
   "cell_type": "code",
   "execution_count": 76,
   "metadata": {},
   "outputs": [
    {
     "name": "stdout",
     "output_type": "stream",
     "text": [
      "Epoch: 1 | Training loss: 2.3101764784061585 | Validation loss: 2.3096257955455433\n",
      "Epoch: 2 | Training loss: 2.3032219475143623 | Validation loss: 2.303166864695959\n",
      "Epoch: 3 | Training loss: 2.3015085347046322 | Validation loss: 2.3017085135448725\n",
      "Epoch: 4 | Training loss: 2.301151488510752 | Validation loss: 2.301469263704369\n",
      "Epoch: 5 | Training loss: 2.3010882368439645 | Validation loss: 2.3014572479976794\n",
      "Epoch: 6 | Training loss: 2.301080007138873 | Validation loss: 2.301470688668561\n",
      "Epoch: 7 | Training loss: 2.301080179794314 | Validation loss: 2.3014799347046146\n",
      "Epoch: 8 | Training loss: 2.3010808877879767 | Validation loss: 2.3014844410975095\n",
      "Epoch: 9 | Training loss: 2.30108121183469 | Validation loss: 2.3014863662415865\n",
      "Epoch: 10 | Training loss: 2.301081243830476 | Validation loss: 2.301487082538876\n",
      "Epoch: 11 | Training loss: 2.301081119973113 | Validation loss: 2.3014872584272035\n",
      "Epoch: 12 | Training loss: 2.301080918623839 | Validation loss: 2.3014871943454036\n",
      "Epoch: 13 | Training loss: 2.3010806781000768 | Validation loss: 2.301487021864885\n",
      "Epoch: 14 | Training loss: 2.301080417572433 | Validation loss: 2.301486799217875\n",
      "Epoch: 15 | Training loss: 2.3010801457247276 | Validation loss: 2.3014865518754606\n",
      "Epoch: 16 | Training loss: 2.301079866303644 | Validation loss: 2.301486290925604\n",
      "Epoch: 17 | Training loss: 2.3010795824580477 | Validation loss: 2.3014860233829912\n",
      "Epoch: 18 | Training loss: 2.3010792988145754 | Validation loss: 2.301485754979938\n",
      "Epoch: 19 | Training loss: 2.3010790160082957 | Validation loss: 2.301485486263927\n",
      "Epoch: 20 | Training loss: 2.301078732935243 | Validation loss: 2.301485216686065\n"
     ]
    },
    {
     "data": {
      "image/png": "[encoded data removed]",
      "text/plain": [
       "<Figure size 432x288 with 1 Axes>"
      ]
     },
     "metadata": {
      "needs_background": "light"
     },
     "output_type": "display_data"
    },
    {
     "name": "stdout",
     "output_type": "stream",
     "text": [
      "Validating the Leaky ReLU model:\n",
      "Training accuracy: 0.8225833333333333\n",
      "Validation accuracy: 0.8220333333333333\n",
      "Test accuracy: 0.8227\n"
     ]
    }
   ],
   "source": [
    "# 4. Leaky ReLU activation function\n",
    "model_leaky_relu = GoelNeuralNet(N=N, A=A, lr=0.01, activation=leaky_relu, activation_grad=leaky_relu_grad, weight_init=normal_init, num_epochs=num_epochs, batch_size=batch_size)\n",
    "\n",
    "# Train the model\n",
    "model_leaky_relu.fit(X_train, y_train, X_val, y_val)\n",
    "\n",
    "# Evaluate the model\n",
    "print(\"Validating the Leaky ReLU model:\")\n",
    "print(\"Training accuracy: {}\".format(model_leaky_relu.score(X_train, y_train)))\n",
    "print(\"Validation accuracy: {}\".format(model_leaky_relu.score(X_val, y_val)))\n",
    "print(\"Test accuracy: {}\".format(model_leaky_relu.score(X_test, y_test)))\n",
    "\n",
    "# Save the model\n",
    "pickle.dump(model_leaky_relu, open(\"model_leaky_relu.pkl\", \"wb\"))"
   ]
  },
  {
   "cell_type": "code",
   "execution_count": 79,
   "metadata": {},
   "outputs": [
    {
     "name": "stdout",
     "output_type": "stream",
     "text": [
      "Epoch: 1 | Training loss: 2.3081865286787977 | Validation loss: 2.308774521124939\n",
      "Epoch: 2 | Training loss: 2.302046880736486 | Validation loss: 2.3024769470161286\n",
      "Epoch: 3 | Training loss: 2.301180459050142 | Validation loss: 2.3015798689823934\n",
      "Epoch: 4 | Training loss: 2.301079642609589 | Validation loss: 2.3014783825494556\n",
      "Epoch: 5 | Training loss: 2.3010698343140663 | Validation loss: 2.301471825962795\n",
      "Epoch: 6 | Training loss: 2.3010682134024956 | Validation loss: 2.301472522741749\n",
      "Epoch: 7 | Training loss: 2.301066411189028 | Validation loss: 2.3014719367038894\n",
      "Epoch: 8 | Training loss: 2.301064104066858 | Validation loss: 2.301470197816874\n",
      "Epoch: 9 | Training loss: 2.3010615171795505 | Validation loss: 2.301467861695737\n",
      "Epoch: 10 | Training loss: 2.301058775257556 | Validation loss: 2.3014652273852283\n",
      "Epoch: 11 | Training loss: 2.3010559260152506 | Validation loss: 2.301462424074684\n",
      "Epoch: 12 | Training loss: 2.301052982645876 | Validation loss: 2.3014595007715855\n",
      "Epoch: 13 | Training loss: 2.3010499441445824 | Validation loss: 2.301456471663471\n",
      "Epoch: 14 | Training loss: 2.3010468034997746 | Validation loss: 2.301453336040968\n",
      "Epoch: 15 | Training loss: 2.3010435508032177 | Validation loss: 2.3014500865699414\n",
      "Epoch: 16 | Training loss: 2.301040174359642 | Validation loss: 2.301446712591746\n",
      "Epoch: 17 | Training loss: 2.301036661013035 | Validation loss: 2.301443201358891\n",
      "Epoch: 18 | Training loss: 2.3010329961559512 | Validation loss: 2.301439538416592\n",
      "Epoch: 19 | Training loss: 2.301029163597128 | Validation loss: 2.3014357076214482\n",
      "Epoch: 20 | Training loss: 2.3010251453506987 | Validation loss: 2.3014316909915222\n"
     ]
    },
    {
     "data": {
      "image/png": "[encoded data removed]",
      "text/plain": [
       "<Figure size 432x288 with 1 Axes>"
      ]
     },
     "metadata": {
      "needs_background": "light"
     },
     "output_type": "display_data"
    },
    {
     "name": "stdout",
     "output_type": "stream",
     "text": [
      "Validating the Linear model:\n",
      "Training accuracy: 0.8225833333333333\n",
      "Validation accuracy: 0.8220333333333333\n",
      "Test accuracy: 0.8227\n"
     ]
    }
   ],
   "source": [
    "# 5. Linear activation function\n",
    "model_linear = GoelNeuralNet(N=N, A=A, lr=0.01, activation=linear, activation_grad=linear_grad, weight_init=random_init, num_epochs=num_epochs, batch_size=batch_size)\n",
    "\n",
    "# Train the model\n",
    "model_linear.fit(X_train, y_train, X_val, y_val)\n",
    "\n",
    "# Evaluate the model\n",
    "print(\"Validating the Linear model:\")\n",
    "print(\"Training accuracy: {}\".format(model_linear.score(X_train, y_train)))\n",
    "print(\"Validation accuracy: {}\".format(model_linear.score(X_val, y_val)))\n",
    "print(\"Test accuracy: {}\".format(model_linear.score(X_test, y_test)))\n",
    "\n",
    "# Save the model\n",
    "pickle.dump(model_linear, open(\"model_linear.pkl\", \"wb\"))"
   ]
  },
  {
   "cell_type": "markdown",
   "metadata": {},
   "source": [
    "### Validate Saved Models"
   ]
  },
  {
   "cell_type": "code",
   "execution_count": 80,
   "metadata": {},
   "outputs": [
    {
     "name": "stdout",
     "output_type": "stream",
     "text": [
      "Testing Accuracies of the Models:\n",
      "Accuracy of the Tanh model: 0.98048\n"
     ]
    },
    {
     "name": "stderr",
     "output_type": "stream",
     "text": [
      "/var/folders/c9/s8062nf53sv0b6gfv3ct0lv80000gn/T/ipykernel_31167/2795428607.py:6: RuntimeWarning: overflow encountered in exp\n",
      "  return 1/(1+np.exp(-x))\n"
     ]
    },
    {
     "name": "stdout",
     "output_type": "stream",
     "text": [
      "Accuracy of the Sigmoid model: 0.96608\n",
      "Accuracy of the ReLU model: 0.8227\n",
      "Accuracy of the Leaky ReLU model: 0.8227\n",
      "Accuracy of the Linear model: 0.8227\n"
     ]
    }
   ],
   "source": [
    "# Load the models\n",
    "model_tanh_loaded = pickle.load(open(\"model_tanh.pkl\", \"rb\"))\n",
    "model_sigmoid_loaded = pickle.load(open(\"model_sigmoid.pkl\", \"rb\"))\n",
    "model_relu_loaded = pickle.load(open(\"model_relu.pkl\", \"rb\"))\n",
    "model_leaky_relu_loaded = pickle.load(open(\"model_leaky_relu.pkl\", \"rb\"))\n",
    "model_linear_loaded = pickle.load(open(\"model_linear.pkl\", \"rb\"))\n",
    "\n",
    "# Evaluate the models\n",
    "print(\"Testing Accuracies of the Models:\")\n",
    "\n",
    "print(\"Accuracy of the Tanh model: {}\".format(model_tanh_loaded.score(X_test, y_test)))\n",
    "print(\"Accuracy of the Sigmoid model: {}\".format(model_sigmoid_loaded.score(X_test, y_test)))\n",
    "print(\"Accuracy of the ReLU model: {}\".format(model_relu_loaded.score(X_test, y_test)))\n",
    "print(\"Accuracy of the Leaky ReLU model: {}\".format(model_leaky_relu_loaded.score(X_test, y_test)))\n",
    "print(\"Accuracy of the Linear model: {}\".format(model_linear_loaded.score(X_test, y_test)))"
   ]
  }
 ],
 "metadata": {
  "kernelspec": {
   "display_name": "Python 3",
   "language": "python",
   "name": "python3"
  },
  "language_info": {
   "codemirror_mode": {
    "name": "ipython",
    "version": 3
   },
   "file_extension": ".py",
   "mimetype": "text/x-python",
   "name": "python",
   "nbconvert_exporter": "python",
   "pygments_lexer": "ipython3",
   "version": "3.10.0"
  }
 },
 "nbformat": 4,
 "nbformat_minor": 2
}
